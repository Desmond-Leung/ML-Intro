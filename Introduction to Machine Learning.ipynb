{
 "cells": [
  {
   "cell_type": "markdown",
   "id": "b38fc88e",
   "metadata": {},
   "source": [
    "# Supervised Learning"
   ]
  },
  {
   "cell_type": "markdown",
   "id": "6e504ed6",
   "metadata": {},
   "source": [
    "## Process"
   ]
  },
  {
   "cell_type": "markdown",
   "id": "166fff12",
   "metadata": {},
   "source": [
    "Data -> X:Features,y:Label"
   ]
  },
  {
   "cell_type": "markdown",
   "id": "b0f9dfdf",
   "metadata": {},
   "source": [
    "Trained using labelled historical examples. Such as an input where a desired output is known. For example spam email vs legitimate email.\n",
    "Future emails will then be classified by the network or algorithm to be spam or legitimate.\n",
    "\n",
    "Step 1:\n",
    "Data Aquisition from customers, sensors etc...\n",
    "\n",
    "Step 2:\n",
    "Clean and format the data using pandas\n",
    "\n",
    "Step 3:\n",
    "Split the data into training data and test data\n",
    "\n",
    "Step 4:\n",
    "Model training and building on the training data to fit a model\n",
    "\n",
    "Step 5:\n",
    "Run test data through the model and compare model prediction to the correct label of the test data\n",
    "\n",
    "Step 6:\n",
    "Adjust model parameters if unsatisfied\n",
    "\n",
    "\n",
    "Training data: Used to train model parameters\n",
    "Validation data: See how model performs on unseen data and adjust parameters where needed\n",
    "Test data: Used to get final performance metric. Cannot change model parameters"
   ]
  },
  {
   "cell_type": "markdown",
   "id": "e5eab001",
   "metadata": {},
   "source": [
    "## Evaluating Performance"
   ]
  },
  {
   "cell_type": "markdown",
   "id": "7f160c17",
   "metadata": {},
   "source": [
    "### Classification Tasks"
   ]
  },
  {
   "cell_type": "markdown",
   "id": "47f8e861",
   "metadata": {},
   "source": [
    "Model attempts to predict categorical values\n",
    "\n",
    "Key classification metrics to understand: Accuracy, recall, precision and F1 score\n",
    "\n",
    "Accuracy: Number of correct predictions/Number of total predictions. Only good to use when target classes are well balanced."
   ]
  },
  {
   "cell_type": "markdown",
   "id": "7465bb1e",
   "metadata": {},
   "source": [
    "### Regression Tasks"
   ]
  },
  {
   "cell_type": "markdown",
   "id": "2ac54856",
   "metadata": {},
   "source": [
    "Model attempts to predict continuous values\n",
    "\n",
    "Common evaluation metrics for regression: \n",
    "Mean absolute error\n",
    "Mean squared error\n",
    "Root mean squared error\n",
    "\n",
    "Mean absolute error:\n",
    "Mean of the absolute value of errors.\n",
    "WILL NOT punish large errors.\n",
    "\n",
    "Mean squared error:\n",
    "Mean of the squared errors.\n",
    "Larger errors are noted more than MAE, making MSE more popular.\n",
    "\n",
    "Root mean squared error:\n",
    "Root of the mean of the squared errors.\n",
    "Most popular, has same unit as y."
   ]
  },
  {
   "cell_type": "markdown",
   "id": "66944375",
   "metadata": {},
   "source": [
    "## Machine Learning with Python"
   ]
  },
  {
   "cell_type": "markdown",
   "id": "447899cd",
   "metadata": {},
   "source": [
    "First, import the model, which is in the general form:\n",
    "\n",
    "from sklearn.family import Model"
   ]
  },
  {
   "cell_type": "markdown",
   "id": "8cac5564",
   "metadata": {},
   "source": [
    "# Unsupervised Learning"
   ]
  },
  {
   "cell_type": "markdown",
   "id": "3a3a1af9",
   "metadata": {},
   "source": [
    "Group and interpret data without a label\n",
    "\n",
    "Eg Clustering customers into separate groups based off their behaviour features\n",
    "\n",
    "Harder to evaluate performance than SL"
   ]
  }
 ],
 "metadata": {
  "kernelspec": {
   "display_name": "Python 3",
   "language": "python",
   "name": "python3"
  },
  "language_info": {
   "codemirror_mode": {
    "name": "ipython",
    "version": 3
   },
   "file_extension": ".py",
   "mimetype": "text/x-python",
   "name": "python",
   "nbconvert_exporter": "python",
   "pygments_lexer": "ipython3",
   "version": "3.8.8"
  }
 },
 "nbformat": 4,
 "nbformat_minor": 5
}
